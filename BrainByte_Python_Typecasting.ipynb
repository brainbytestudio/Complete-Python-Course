{
 "cells": [
  {
   "cell_type": "markdown",
   "id": "f7544fb5",
   "metadata": {},
   "source": [
    "# 🧠 BrainByte Python Series - Typecasting in Python\n",
    "\n",
    "Welcome to the BrainByte Python series! In this notebook, we will explore **Typecasting (Type Conversion)** in Python — a key concept that allows us to convert one data type into another."
   ]
  },
  {
   "cell_type": "markdown",
   "id": "5a19fc0b",
   "metadata": {},
   "source": [
    "## 📌 What is Typecasting?\n",
    "**Typecasting**, also known as **type conversion** or **coercion**, is the process of converting the value of one data type to another.\n",
    "\n",
    "In Python, there are two types of typecasting:\n",
    "- **Implicit Typecasting** (done automatically by Python)\n",
    "- **Explicit Typecasting** (done manually using functions like `int()`, `float()`, etc.)"
   ]
  },
  {
   "cell_type": "markdown",
   "id": "1bbb7d0c",
   "metadata": {},
   "source": [
    "## 🔄 Implicit Typecasting\n",
    "In some cases, **Python automatically converts** one data type to another to avoid data loss.\n",
    "\n",
    "This generally happens when a lower precision type is involved in an operation with a higher precision type."
   ]
  },
  {
   "cell_type": "code",
   "execution_count": null,
   "id": "7165a43e",
   "metadata": {},
   "outputs": [],
   "source": [
    "# Integer + Float => Float\n",
    "integer_number = 5\n",
    "float_number = 3.14\n",
    "result = integer_number + float_number\n",
    "print(\"Result:\", result)\n",
    "print(\"Type of result:\", type(result))"
   ]
  },
  {
   "cell_type": "code",
   "execution_count": null,
   "id": "881fa81b",
   "metadata": {},
   "outputs": [],
   "source": [
    "# Integer + String => Error\n",
    "integer_number = 10\n",
    "string_number = \"5\"\n",
    "# Uncomment below to see the error\n",
    "# result = integer_number + string_number\n",
    "# print(result)"
   ]
  },
  {
   "cell_type": "markdown",
   "id": "cdf1ffb3",
   "metadata": {},
   "source": [
    "**Note:** Python does NOT allow implicit conversion between `int` and `str`. This will raise a `TypeError`."
   ]
  },
  {
   "cell_type": "markdown",
   "id": "c09136bc",
   "metadata": {},
   "source": [
    "## ✋ Explicit Typecasting\n",
    "**Explicit typecasting** is when the programmer manually converts a data type using built-in functions like:\n",
    "- `int()`\n",
    "- `float()`\n",
    "- `str()`\n",
    "- `bool()`"
   ]
  },
  {
   "cell_type": "markdown",
   "id": "4514c608",
   "metadata": {},
   "source": [
    "### 🔢 Converting Integer to Other Types"
   ]
  },
  {
   "cell_type": "code",
   "execution_count": null,
   "id": "12e0c5e8",
   "metadata": {},
   "outputs": [],
   "source": [
    "# Integer to Float\n",
    "x = 3\n",
    "y = float(x)\n",
    "print(y, type(y))\n",
    "\n",
    "# Integer to Boolean\n",
    "x = 1\n",
    "print(bool(x))  # True\n",
    "x = 0\n",
    "print(bool(x))  # False\n",
    "\n",
    "# Integer to String\n",
    "x = 10\n",
    "print(str(x), type(str(x)))"
   ]
  },
  {
   "cell_type": "markdown",
   "id": "63026268",
   "metadata": {},
   "source": [
    "### 🌊 Converting Float to Other Types"
   ]
  },
  {
   "cell_type": "code",
   "execution_count": null,
   "id": "804c999d",
   "metadata": {},
   "outputs": [],
   "source": [
    "# Float to Integer (decimal removed)\n",
    "x = 3.14\n",
    "print(int(x))  # 3\n",
    "\n",
    "# Float to Boolean\n",
    "print(bool(1.23))  # True\n",
    "print(bool(0.0))   # False\n",
    "\n",
    "# Float to String\n",
    "x = 3.14\n",
    "print(str(x), type(str(x)))"
   ]
  },
  {
   "cell_type": "markdown",
   "id": "8f236ca5",
   "metadata": {},
   "source": [
    "### 🧵 Converting String to Other Types"
   ]
  },
  {
   "cell_type": "code",
   "execution_count": null,
   "id": "cc5faa0a",
   "metadata": {},
   "outputs": [],
   "source": [
    "# String to Integer\n",
    "x = \"10\"\n",
    "print(int(x))  # 10\n",
    "\n",
    "# String to Float\n",
    "x = \"3.14\"\n",
    "print(float(x))  # 3.14\n",
    "\n",
    "# String to Boolean\n",
    "print(bool(\"True\"))  # True\n",
    "print(bool(\"\"))      # False\n",
    "\n",
    "# Invalid string conversion (raises error)\n",
    "# x = \"abc\"\n",
    "# print(int(x))  # ValueError"
   ]
  },
  {
   "cell_type": "markdown",
   "id": "ccf0d3a4",
   "metadata": {},
   "source": [
    "### ✅ Converting Boolean to Other Types"
   ]
  },
  {
   "cell_type": "code",
   "execution_count": null,
   "id": "f0b85e68",
   "metadata": {},
   "outputs": [],
   "source": [
    "# Boolean to Integer\n",
    "print(int(True))   # 1\n",
    "print(int(False))  # 0\n",
    "\n",
    "# Boolean to Float\n",
    "print(float(True))   # 1.0\n",
    "print(float(False))  # 0.0\n",
    "\n",
    "# Boolean to String\n",
    "print(str(True))   # 'True'\n",
    "print(str(False))  # 'False'"
   ]
  },
  {
   "cell_type": "markdown",
   "id": "0480361b",
   "metadata": {},
   "source": [
    "## 🧠 Key Points and Exceptions\n",
    "\n",
    "- **Empty String:** `\"\"` is considered `False` when converted to boolean.\n",
    "- **Non-numeric Strings:** Strings like `\"abc\"` cannot be converted to `int` or `float`.\n",
    "- **Float to Int:** Truncates decimal part — no rounding!\n",
    "- **Bool:** In Python, `0`, `0.0`, `None`, and empty containers (`[]`, `{}`, `\"\"`) are all treated as `False` in boolean context.\n"
   ]
  },
  {
   "cell_type": "markdown",
   "id": "e2452842",
   "metadata": {},
   "source": [
    "## 🧪 Challenge: Test Yourself"
   ]
  },
  {
   "cell_type": "code",
   "execution_count": null,
   "id": "e06c532f",
   "metadata": {},
   "outputs": [],
   "source": [
    "# Predict the output and explain why it behaves this way\n",
    "\n",
    "print(int(\"10\") + float(\"2.5\"))\n",
    "print(bool(\"False\"))\n",
    "print(str(0.1 + 0.2))"
   ]
  }
 ],
 "metadata": {
  "kernelspec": {
   "display_name": "Python 3 (ipykernel)",
   "language": "python",
   "name": "python3"
  },
  "language_info": {
   "codemirror_mode": {
    "name": "ipython",
    "version": 3
   },
   "file_extension": ".py",
   "mimetype": "text/x-python",
   "name": "python",
   "nbconvert_exporter": "python",
   "pygments_lexer": "ipython3",
   "version": "3.12.7"
  }
 },
 "nbformat": 4,
 "nbformat_minor": 5
}
