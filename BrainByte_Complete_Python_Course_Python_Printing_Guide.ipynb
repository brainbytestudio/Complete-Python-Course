{
 "cells": [
  {
   "cell_type": "markdown",
   "id": "dfae24bf",
   "metadata": {},
   "source": [
    "\n",
    "# The Ultimate Guide to `print()` in Python\n"
   ]
  },
  {
   "cell_type": "markdown",
   "id": "dac50403",
   "metadata": {},
   "source": [
    "\n",
    "## 1) What is `print()`?\n",
    "`print()` is a built-in function that writes text to the standard output (usually your console).  \n",
    "Signature (CPython 3.x):  \n",
    "```python\n",
    "print(*objects, sep=' ', end='\\n', file=None, flush=False)\n",
    "```\n",
    "- `*objects`: values to print\n",
    "- `sep`: separator between objects (default single space)\n",
    "- `end`: appended at the end (default newline)\n",
    "- `file`: a file-like object to write to (defaults to `sys.stdout`)\n",
    "- `flush`: force the output buffer to flush immediately\n"
   ]
  },
  {
   "cell_type": "markdown",
   "id": "6d56eb50",
   "metadata": {},
   "source": [
    "## 2) Basic usage"
   ]
  },
  {
   "cell_type": "code",
   "execution_count": 1,
   "id": "61da6565",
   "metadata": {},
   "outputs": [
    {
     "name": "stdout",
     "output_type": "stream",
     "text": [
      "Hello, World!\n"
     ]
    }
   ],
   "source": [
    "print(\"Hello, World!\")"
   ]
  },
  {
   "cell_type": "markdown",
   "id": "e840d392",
   "metadata": {},
   "source": [
    "## 3) Printing multiple values"
   ]
  },
  {
   "cell_type": "code",
   "execution_count": 2,
   "id": "6c441c88",
   "metadata": {},
   "outputs": [
    {
     "name": "stdout",
     "output_type": "stream",
     "text": [
      "Name: Aditi | Age: 25\n"
     ]
    }
   ],
   "source": [
    "name = \"Aditi\"\n",
    "age = 25\n",
    "print(\"Name:\", name, \"| Age:\", age)  # default space-separated arguments"
   ]
  },
  {
   "cell_type": "markdown",
   "id": "6e6f5881",
   "metadata": {},
   "source": [
    "## 4) `sep`: custom separator"
   ]
  },
  {
   "cell_type": "code",
   "execution_count": 3,
   "id": "87179b5a",
   "metadata": {},
   "outputs": [
    {
     "name": "stdout",
     "output_type": "stream",
     "text": [
      "2025-09-16\n",
      "red | green | blue\n"
     ]
    }
   ],
   "source": [
    "print(\"2025\",\"09\",\"16\", sep=\"-\")\n",
    "print(\"red\",\"green\",\"blue\", sep=\" | \")"
   ]
  },
  {
   "cell_type": "markdown",
   "id": "d0c67a8f",
   "metadata": {},
   "source": [
    "## 5) `end`: custom line ending (no newline)"
   ]
  },
  {
   "cell_type": "code",
   "execution_count": 4,
   "id": "62b5d1a4",
   "metadata": {},
   "outputs": [
    {
     "name": "stdout",
     "output_type": "stream",
     "text": [
      "Downloading... done!\n",
      "0 1 2 <- numbers on one line\n"
     ]
    }
   ],
   "source": [
    "print(\"Downloading...\", end=\"\")\n",
    "print(\" done!\")  # continues on same line\n",
    "\n",
    "for i in range(3):\n",
    "    print(i, end=\" \")\n",
    "print(\"<- numbers on one line\")"
   ]
  },
  {
   "cell_type": "markdown",
   "id": "4502c1f3",
   "metadata": {},
   "source": [
    "## 6) `file`: send output somewhere else"
   ]
  },
  {
   "cell_type": "code",
   "execution_count": 6,
   "id": "969a580a",
   "metadata": {},
   "outputs": [
    {
     "name": "stdout",
     "output_type": "stream",
     "text": [
      "Buffer content: This goes to the buffer, not the console.\n",
      "\n"
     ]
    },
    {
     "name": "stderr",
     "output_type": "stream",
     "text": [
      "This is an error message.\n"
     ]
    }
   ],
   "source": [
    "import sys, io\n",
    "buffer = io.StringIO()\n",
    "print(\"This goes to the buffer, not the console.\", file=buffer)\n",
    "print(\"Buffer content:\", buffer.getvalue())\n",
    "\n",
    "# You can also write directly to stderr:\n",
    "print(\"This is an error message.\", file=sys.stderr)"
   ]
  },
  {
   "cell_type": "markdown",
   "id": "a1ae1b27",
   "metadata": {},
   "source": [
    "## 8) Escape sequences and raw strings"
   ]
  },
  {
   "cell_type": "code",
   "execution_count": 7,
   "id": "59409fe1",
   "metadata": {},
   "outputs": [
    {
     "name": "stdout",
     "output_type": "stream",
     "text": [
      "Line1\n",
      "Line2\t(Indented)\n",
      "A quote: \"Hello\" and a backslash: \\\n",
      "C:\\Users\\HP\\Desktop\\Project\n"
     ]
    }
   ],
   "source": [
    "print(\"Line1\\nLine2\\t(Indented)\")\n",
    "print(\"A quote: \\\"Hello\\\" and a backslash: \\\\\")\n",
    "# Raw strings treat backslashes literally (great for Windows paths / regex)\n",
    "print(r\"C:\\Users\\HP\\Desktop\\Project\")"
   ]
  },
  {
   "cell_type": "markdown",
   "id": "c16810b4",
   "metadata": {},
   "source": [
    "## 9) Multiline printing"
   ]
  },
  {
   "cell_type": "code",
   "execution_count": 14,
   "id": "89092328",
   "metadata": {},
   "outputs": [
    {
     "name": "stdout",
     "output_type": "stream",
     "text": [
      "This is a multiline string.\n",
      "Useful for message blocks,\n",
      "SQL queries, or banners.\n",
      "\n",
      "line 1\n",
      "line 2\n",
      "line 3\n"
     ]
    }
   ],
   "source": [
    "paragraph = \"\"\"This is a multiline string.\n",
    "Useful for message blocks,\n",
    "SQL queries, or banners.\n",
    "\"\"\"\n",
    "print(paragraph)\n",
    "\n",
    "# Joining lines from a list\n",
    "lines = [\"line 1\",\"line 2\",\"line 3\"]\n",
    "print(\"\\n\".join(lines))"
   ]
  },
  {
   "cell_type": "markdown",
   "id": "cea39c8a",
   "metadata": {},
   "source": [
    "## 11) Mini exercises"
   ]
  },
  {
   "cell_type": "markdown",
   "id": "f5c6bcd8",
   "metadata": {},
   "source": [
    "1. Write a program to print \"Hello\" and \"World\" on the same line with a space in between using print().\n",
    "2. Print numbers from 1 to 5 on the same line, separated by commas, without using a loop.\n",
    "3. Use print() to display:\n",
    "    - Name: Alice\n",
    "    - Age: 25\n",
    "    - City: Chennai\n",
    "in three separate lines with one print() statement.\n",
    "4. Write a program to print \"Python Rocks!!!\" three times on the same line, separated by -."
   ]
  }
 ],
 "metadata": {
  "kernelspec": {
   "display_name": "Python 3 (ipykernel)",
   "language": "python",
   "name": "python3"
  },
  "language_info": {
   "codemirror_mode": {
    "name": "ipython",
    "version": 3
   },
   "file_extension": ".py",
   "mimetype": "text/x-python",
   "name": "python",
   "nbconvert_exporter": "python",
   "pygments_lexer": "ipython3",
   "version": "3.12.7"
  }
 },
 "nbformat": 4,
 "nbformat_minor": 5
}
