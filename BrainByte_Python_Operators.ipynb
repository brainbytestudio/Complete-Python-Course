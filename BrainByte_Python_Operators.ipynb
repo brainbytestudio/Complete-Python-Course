{
 "cells": [
  {
   "cell_type": "markdown",
   "id": "80506ed7",
   "metadata": {},
   "source": [
    "# 🧠 BrainByte Python Series - Python Operators\n",
    "\n",
    "Welcome to the BrainByte Python series! In this notebook, we will explore **Python Operators** — special symbols used to perform operations on variables and values.\n",
    "Operators are symbols that are used to do different kinds of work on values and variables, like adding numbers or comparing values.\n",
    "\n",
    "Operators are special symbols like +, *, /, %, >>, etc.\n",
    "\n",
    "Operands are the values or variables the operators work on."
   ]
  },
  {
   "cell_type": "markdown",
   "id": "02f398e8",
   "metadata": {},
   "source": [
    "## 📌 What are Operators?\n",
    "Operators are used to perform operations on variables and values. Python has various types of operators, which we can group as follows:\n",
    "\n",
    "- Arithmetic Operators\n",
    "- Comparison Operators\n",
    "- Logical Operators "
   ]
  },
  {
   "cell_type": "markdown",
   "id": "bf3322a7",
   "metadata": {},
   "source": [
    "## ➕ Arithmetic Operators\n",
    "These operators are used with numeric values to perform common mathematical operations."
   ]
  },
  {
   "cell_type": "code",
   "execution_count": null,
   "id": "0b181553",
   "metadata": {},
   "outputs": [],
   "source": [
    "# Arithmetic Operators\n",
    "a = 10\n",
    "b = 3\n",
    "\n",
    "print(\"Addition:\", a + b)\n",
    "print(\"Subtraction:\", a - b)\n",
    "print(\"Multiplication:\", a * b)\n",
    "print(\"Division (float):\", a / b)\n",
    "print(\"Division (floor):\", a // b)\n",
    "print(\"Modulus (remainder):\", a % b)\n",
    "print(\"Power:\", a ** b)"
   ]
  },
  {
   "cell_type": "markdown",
   "id": "d891ce20",
   "metadata": {},
   "source": [
    "**Use Cases:**\n",
    "- `%` is useful to find if a number is even/odd.\n",
    "- `**` is often used in scientific calculations or machine learning algorithms for exponential growth."
   ]
  },
  {
   "cell_type": "markdown",
   "id": "ae284637",
   "metadata": {},
   "source": [
    "## ⚖️ Comparison Operators\n",
    "These operators compare two values and return a Boolean (`True` or `False`)."
   ]
  },
  {
   "cell_type": "code",
   "execution_count": null,
   "id": "81404e37",
   "metadata": {},
   "outputs": [],
   "source": [
    "x = 5\n",
    "y = 10\n",
    "\n",
    "print(\"x > y:\", x > y)\n",
    "print(\"x < y:\", x < y)\n",
    "print(\"x >= y:\", x >= y)\n",
    "print(\"x <= y:\", x <= y)\n",
    "print(\"x == y:\", x == y)\n",
    "print(\"x != y:\", x != y)"
   ]
  },
  {
   "cell_type": "markdown",
   "id": "fc37e212",
   "metadata": {},
   "source": [
    "**Use Cases:**\n",
    "- Used in conditionals (`if` statements) and loops to control flow of logic."
   ]
  },
  {
   "cell_type": "markdown",
   "id": "53cad094",
   "metadata": {},
   "source": [
    "## 🔗 Logical Operators\n",
    "These operators combine multiple Boolean expressions or values."
   ]
  },
  {
   "cell_type": "code",
   "execution_count": null,
   "id": "7542f849",
   "metadata": {},
   "outputs": [],
   "source": [
    "a = True\n",
    "b = False\n",
    "\n",
    "print(\"AND (a and b):\", a and b)\n",
    "print(\"OR (a or b):\", a or b)\n",
    "print(\"NOT (not a):\", not a)"
   ]
  },
  {
   "cell_type": "markdown",
   "id": "4d203af2",
   "metadata": {},
   "source": [
    "**Use Cases:**\n",
    "- Essential for creating compound conditions in `if`/`while` statements."
   ]
  },
  {
   "cell_type": "markdown",
   "id": "1f36c86f",
   "metadata": {},
   "source": [
    "## 🧾 Summary Table\n",
    "\n",
    "| Operator Type   | Operator(s)         | Description                      |\n",
    "|------------------|----------------------|----------------------------------|\n",
    "| Arithmetic       | +, -, *, /, //, %, ** | Basic math operations           |\n",
    "| Comparison       | >, <, >=, <=, ==, !=  | Compare values                  |\n",
    "| Logical          | and, or, not          | Combine conditions              |"
   ]
  },
  {
   "cell_type": "markdown",
   "id": "d86fb2a6",
   "metadata": {},
   "source": [
    "## 🧠 Try it Yourself!\n",
    "Write a condition using logical, arithmetic and comparison operators together. Example:"
   ]
  },
  {
   "cell_type": "code",
   "execution_count": null,
   "id": "93d4b074",
   "metadata": {},
   "outputs": [],
   "source": [
    "a = 10\n",
    "b = 5\n",
    "c = 3\n",
    "\n",
    "# Complex condition\n",
    "if (a > b and b % c == 2):\n",
    "    print(\"Condition met!\")\n",
    "else:\n",
    "    print(\"Try again!\")"
   ]
  }
 ],
 "metadata": {
  "kernelspec": {
   "display_name": "Python 3 (ipykernel)",
   "language": "python",
   "name": "python3"
  },
  "language_info": {
   "codemirror_mode": {
    "name": "ipython",
    "version": 3
   },
   "file_extension": ".py",
   "mimetype": "text/x-python",
   "name": "python",
   "nbconvert_exporter": "python",
   "pygments_lexer": "ipython3",
   "version": "3.12.7"
  }
 },
 "nbformat": 4,
 "nbformat_minor": 5
}
