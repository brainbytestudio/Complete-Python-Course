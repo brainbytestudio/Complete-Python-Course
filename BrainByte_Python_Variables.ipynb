{
 "cells": [
  {
   "cell_type": "markdown",
   "id": "f65e058f",
   "metadata": {},
   "source": [
    "# 🧠 BrainByte Python Series"
   ]
  },
  {
   "cell_type": "markdown",
   "id": "052185b7",
   "metadata": {
    "jp-MarkdownHeadingCollapsed": true
   },
   "source": [
    "## 📌 What is a Variable?\n",
    "A **variable** in Python is a symbolic name that is a reference or pointer to an object. Once an object is assigned to a variable, you can refer to the object by that name.\n",
    "\n",
    "- Python is **dynamically typed**, so we don’t need to declare the data type.\n",
    "- A variable is created when a value is assigned to it."
   ]
  },
  {
   "cell_type": "markdown",
   "id": "541318f0",
   "metadata": {},
   "source": [
    "## 🔧 Assigning Values to Variables"
   ]
  },
  {
   "cell_type": "code",
   "execution_count": 1,
   "id": "58fff278",
   "metadata": {},
   "outputs": [
    {
     "name": "stdout",
     "output_type": "stream",
     "text": [
      "a = 5\n",
      "b = 10 , c = 15\n",
      "d = 20 , e = 20 , f = 20\n",
      "g = 10\n"
     ]
    }
   ],
   "source": [
    "# Single assignment\n",
    "a = 5\n",
    "print(\"a =\", a)\n",
    "\n",
    "# Multiple assignment\n",
    "b, c = 10, 15\n",
    "print(\"b =\", b, \", c =\", c)\n",
    "\n",
    "# Chained assignment\n",
    "d = e = f = 20\n",
    "print(\"d =\", d, \", e =\", e, \", f =\", f)\n",
    "\n",
    "# Augmented assignment\n",
    "g = 8\n",
    "g += 2  # Equivalent to g = g + 2\n",
    "print(\"g =\", g)"
   ]
  },
  {
   "cell_type": "markdown",
   "id": "d4d85fe6",
   "metadata": {},
   "source": [
    "## ✍️ Variable Naming Rules\n",
    "\n",
    "1. Must start with a letter (A-Z or a-z) or an underscore (_)\n",
    "2. Cannot start with a number\n",
    "3. Can only contain letters, digits, and underscores\n",
    "4. Case-sensitive (`name`, `Name`, and `NAME` are different)\n",
    "5. Cannot use Python **keywords** like `if`, `class`, `return`, etc.\n",
    "\n",
    "### ✅ Valid Examples:\n",
    "```python\n",
    "variable = 120\n",
    "var_iab_le = 3.0\n",
    "_variable4 = 345.89\n",
    "_var_ = \"string variable\"\n",
    "Variable = 45\n",
    "_Var = 420\n",
    "```\n"
   ]
  },
  {
   "cell_type": "markdown",
   "id": "407a94ed",
   "metadata": {},
   "source": [
    "### 🔒 Check for Reserved Keywords"
   ]
  },
  {
   "cell_type": "code",
   "execution_count": 2,
   "id": "60b8d923",
   "metadata": {},
   "outputs": [
    {
     "name": "stdout",
     "output_type": "stream",
     "text": [
      "Python Keywords:\n",
      "['False', 'None', 'True', 'and', 'as', 'assert', 'async', 'await', 'break', 'class', 'continue', 'def', 'del', 'elif', 'else', 'except', 'finally', 'for', 'from', 'global', 'if', 'import', 'in', 'is', 'lambda', 'nonlocal', 'not', 'or', 'pass', 'raise', 'return', 'try', 'while', 'with', 'yield']\n"
     ]
    }
   ],
   "source": [
    "import keyword\n",
    "print(\"Python Keywords:\")\n",
    "print(keyword.kwlist)"
   ]
  },
  {
   "cell_type": "markdown",
   "id": "0c76771b",
   "metadata": {},
   "source": [
    "## ➗ Arithmetic Operations with Assignment"
   ]
  },
  {
   "cell_type": "code",
   "execution_count": 3,
   "id": "0563c058",
   "metadata": {},
   "outputs": [
    {
     "name": "stdout",
     "output_type": "stream",
     "text": [
      "x += y: 15\n",
      "x -= y: 10\n",
      "x *= 2: 20\n",
      "x /= 4: 5.0\n"
     ]
    }
   ],
   "source": [
    "x = 10\n",
    "y = 5\n",
    "\n",
    "x += y  # x = x + y\n",
    "print(\"x += y:\", x)\n",
    "\n",
    "x -= y  # x = x - y\n",
    "print(\"x -= y:\", x)\n",
    "\n",
    "x *= 2  # x = x * 2\n",
    "print(\"x *= 2:\", x)\n",
    "\n",
    "x /= 4  # x = x / 4\n",
    "print(\"x /= 4:\", x)"
   ]
  },
  {
   "cell_type": "markdown",
   "id": "ec7bd678",
   "metadata": {},
   "source": [
    "## 🔄 Type Inference and Reassignment"
   ]
  },
  {
   "cell_type": "code",
   "execution_count": 4,
   "id": "0375ca42",
   "metadata": {},
   "outputs": [
    {
     "name": "stdout",
     "output_type": "stream",
     "text": [
      "Initial x: 10 <class 'int'>\n",
      "Reassigned x: Now I'm a string! <class 'str'>\n"
     ]
    }
   ],
   "source": [
    "# Python allows changing the type of a variable by reassignment\n",
    "x = 10\n",
    "print(\"Initial x:\", x, type(x))\n",
    "\n",
    "x = \"Now I'm a string!\"\n",
    "print(\"Reassigned x:\", x, type(x))"
   ]
  },
  {
   "cell_type": "markdown",
   "id": "3711571a",
   "metadata": {},
   "source": [
    "## 🧠 Memory Location: `id()` Function"
   ]
  },
  {
   "cell_type": "code",
   "execution_count": 5,
   "id": "e9a0ba0c",
   "metadata": {},
   "outputs": [
    {
     "name": "stdout",
     "output_type": "stream",
     "text": [
      "id(x): 140711589656088\n",
      "id(y): 140711589656088\n",
      "id(z): 1343381327328\n"
     ]
    }
   ],
   "source": [
    "x = 100\n",
    "y = 100\n",
    "print(\"id(x):\", id(x))\n",
    "print(\"id(y):\", id(y))  # Same id due to integer caching\n",
    "\n",
    "z = \"hello\"\n",
    "print(\"id(z):\", id(z))"
   ]
  },
  {
   "cell_type": "markdown",
   "id": "1e1e9441",
   "metadata": {},
   "source": [
    "## ❌ Deleting a Variable using `del`"
   ]
  },
  {
   "cell_type": "code",
   "execution_count": 6,
   "id": "764ba832",
   "metadata": {},
   "outputs": [
    {
     "name": "stdout",
     "output_type": "stream",
     "text": [
      "a before delete: 50\n"
     ]
    }
   ],
   "source": [
    "a = 50\n",
    "print(\"a before delete:\", a)\n",
    "del a\n",
    "# print(a)  # Uncommenting this will raise NameError because 'a' is deleted"
   ]
  },
  {
   "cell_type": "markdown",
   "id": "def3cf76",
   "metadata": {},
   "source": [
    "## 🧾 Summary Table\n",
    "\n",
    "| Concept               | Description                                       |\n",
    "|------------------------|---------------------------------------------------|\n",
    "| Variable               | A name that stores a value or object             |\n",
    "| Single Assignment      | `a = 5`                                           |\n",
    "| Multiple Assignment    | `a, b = 5, 10`                                    |\n",
    "| Chained Assignment     | `x = y = z = 20`                                  |\n",
    "| Augmented Assignment   | `x += 1`, `x *= 2`, etc.                          |\n",
    "| Type Inference         | Type is automatically inferred                   |\n",
    "| Memory ID              | `id(variable)` gives memory reference            |\n",
    "| Deleting Variable      | `del variable_name` removes reference            |\n",
    "| Naming Rules           | Must follow identifier rules; no keywords        |"
   ]
  },
  {
   "cell_type": "markdown",
   "id": "6ebdd830",
   "metadata": {},
   "source": [
    "## 💡 Challenge: Try It Yourself"
   ]
  },
  {
   "cell_type": "code",
   "execution_count": 7,
   "id": "a0652318",
   "metadata": {},
   "outputs": [
    {
     "name": "stdout",
     "output_type": "stream",
     "text": [
      "Final x = 35\n",
      "Swapped: a = 2 , b = 1\n"
     ]
    }
   ],
   "source": [
    "# Try predicting the output\n",
    "x = 10\n",
    "x *= 3\n",
    "x += 5\n",
    "print(\"Final x =\", x)\n",
    "\n",
    "a, b = 1, 2\n",
    "a, b = b, a  # Swap values\n",
    "print(\"Swapped: a =\", a, \", b =\", b)"
   ]
  }
 ],
 "metadata": {
  "kernelspec": {
   "display_name": "Python 3 (ipykernel)",
   "language": "python",
   "name": "python3"
  },
  "language_info": {
   "codemirror_mode": {
    "name": "ipython",
    "version": 3
   },
   "file_extension": ".py",
   "mimetype": "text/x-python",
   "name": "python",
   "nbconvert_exporter": "python",
   "pygments_lexer": "ipython3",
   "version": "3.12.7"
  }
 },
 "nbformat": 4,
 "nbformat_minor": 5
}
